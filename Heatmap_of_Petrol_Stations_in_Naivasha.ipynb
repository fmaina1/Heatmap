{
  "nbformat": 4,
  "nbformat_minor": 0,
  "metadata": {
    "colab": {
      "provenance": [],
      "authorship_tag": "ABX9TyNVp+0cR+P1PWZe4W+tuVOF",
      "include_colab_link": true
    },
    "kernelspec": {
      "name": "python3",
      "display_name": "Python 3"
    },
    "language_info": {
      "name": "python"
    }
  },
  "cells": [
    {
      "cell_type": "markdown",
      "metadata": {
        "id": "view-in-github",
        "colab_type": "text"
      },
      "source": [
        "<a href=\"https://colab.research.google.com/github/fmaina1/Heatmap/blob/main/Heatmap_of_Petrol_Stations_in_Naivasha.ipynb\" target=\"_parent\"><img src=\"https://colab.research.google.com/assets/colab-badge.svg\" alt=\"Open In Colab\"/></a>"
      ]
    },
    {
      "cell_type": "markdown",
      "source": [
        "##  Import necessary libraries"
      ],
      "metadata": {
        "id": "uyVugVJSqRYa"
      }
    },
    {
      "cell_type": "code",
      "execution_count": 14,
      "metadata": {
        "id": "toDc4ts0nJpJ"
      },
      "outputs": [],
      "source": [
        "\n",
        "import folium\n",
        "import pandas as pd\n",
        "from folium.plugins import HeatMap\n"
      ]
    },
    {
      "cell_type": "markdown",
      "source": [
        "## Let's assume you have a DataFrame  with Latitude' and Longitude columns"
      ],
      "metadata": {
        "id": "o4DlL3rlrJPA"
      }
    },
    {
      "cell_type": "code",
      "source": [
        "df = pd.read_csv('Listing page by keyword_Google Maps.csv')\n",
        "df.head()"
      ],
      "metadata": {
        "colab": {
          "base_uri": "https://localhost:8080/",
          "height": 608
        },
        "id": "VPqKDenTr-sP",
        "outputId": "c680f626-7e69-4ba5-e6fa-e15cbd57b95a"
      },
      "execution_count": 15,
      "outputs": [
        {
          "output_type": "execute_result",
          "data": {
            "text/plain": [
              "                                  Keyword  \\\n",
              "0  Petrol Stations Near Moi South Lake Rd   \n",
              "1  Petrol Stations Near Moi South Lake Rd   \n",
              "2  Petrol Stations Near Moi South Lake Rd   \n",
              "3  Petrol Stations Near Moi South Lake Rd   \n",
              "4  Petrol Stations Near Moi South Lake Rd   \n",
              "\n",
              "                                       Name Rating  Review_count  Price_range  \\\n",
              "0  South Lake Naivasha Shell Petrol Station    4.3         236.0          NaN   \n",
              "1           SOUTH LAKE SACCO PETROL STATION    3.0           2.0          NaN   \n",
              "2      TotalEnergies Moi Rd service station    4.0         232.0          NaN   \n",
              "3      TotalEnergies Gilgil service station    3.8          35.0          NaN   \n",
              "4                   Ndabibi Shopping Centre    3.5           4.0          NaN   \n",
              "\n",
              "      Category                 Address  Latitude  Longitude Current_status  \\\n",
              "0  Gas station  Rift KE, Moi S Lake Rd -0.779539  36.426989           Open   \n",
              "1  Gas station                7CMJ+VMC -0.715311  36.431650            NaN   \n",
              "2  Gas station                 Moi Ave -0.714012  36.430071  Open 24 hours   \n",
              "3  Gas station     Nakuru Nairobi Road -0.714740  36.432321  Open 24 hours   \n",
              "4  Gas station           Moi S Lake Rd -0.820254  36.325501           Open   \n",
              "\n",
              "    Next_status                                            Website  \\\n",
              "0  Closes 10 pm  https://find.shell.com/ke/fuel/KE_1037212-moi-...   \n",
              "1           NaN                                                NaN   \n",
              "2           NaN                          https://totalenergies.ke/   \n",
              "3           NaN                          https://totalenergies.ke/   \n",
              "4   Closes 8 pm                                                NaN   \n",
              "\n",
              "            Scraped_at    Telephone  Tags  \\\n",
              "0  2023-05-17 15:01:39  0722 651043   NaN   \n",
              "1  2023-05-17 15:01:40     7CMJ+VMC   NaN   \n",
              "2  2023-05-17 15:01:41  0724 117267   NaN   \n",
              "3  2023-05-17 15:01:42  0723 860974   NaN   \n",
              "4  2023-05-17 15:01:44          NaN   NaN   \n",
              "\n",
              "                                          Detail_URL  \n",
              "0  https://www.google.com/maps/place/South+Lake+N...  \n",
              "1  https://www.google.com/maps/place/SOUTH+LAKE+S...  \n",
              "2  https://www.google.com/maps/place/TotalEnergie...  \n",
              "3  https://www.google.com/maps/place/TotalEnergie...  \n",
              "4  https://www.google.com/maps/place/Ndabibi+Shop...  "
            ],
            "text/html": [
              "\n",
              "  <div id=\"df-248344e9-1760-4903-8f9d-da8aca6db6cc\">\n",
              "    <div class=\"colab-df-container\">\n",
              "      <div>\n",
              "<style scoped>\n",
              "    .dataframe tbody tr th:only-of-type {\n",
              "        vertical-align: middle;\n",
              "    }\n",
              "\n",
              "    .dataframe tbody tr th {\n",
              "        vertical-align: top;\n",
              "    }\n",
              "\n",
              "    .dataframe thead th {\n",
              "        text-align: right;\n",
              "    }\n",
              "</style>\n",
              "<table border=\"1\" class=\"dataframe\">\n",
              "  <thead>\n",
              "    <tr style=\"text-align: right;\">\n",
              "      <th></th>\n",
              "      <th>Keyword</th>\n",
              "      <th>Name</th>\n",
              "      <th>Rating</th>\n",
              "      <th>Review_count</th>\n",
              "      <th>Price_range</th>\n",
              "      <th>Category</th>\n",
              "      <th>Address</th>\n",
              "      <th>Latitude</th>\n",
              "      <th>Longitude</th>\n",
              "      <th>Current_status</th>\n",
              "      <th>Next_status</th>\n",
              "      <th>Website</th>\n",
              "      <th>Scraped_at</th>\n",
              "      <th>Telephone</th>\n",
              "      <th>Tags</th>\n",
              "      <th>Detail_URL</th>\n",
              "    </tr>\n",
              "  </thead>\n",
              "  <tbody>\n",
              "    <tr>\n",
              "      <th>0</th>\n",
              "      <td>Petrol Stations Near Moi South Lake Rd</td>\n",
              "      <td>South Lake Naivasha Shell Petrol Station</td>\n",
              "      <td>4.3</td>\n",
              "      <td>236.0</td>\n",
              "      <td>NaN</td>\n",
              "      <td>Gas station</td>\n",
              "      <td>Rift KE, Moi S Lake Rd</td>\n",
              "      <td>-0.779539</td>\n",
              "      <td>36.426989</td>\n",
              "      <td>Open</td>\n",
              "      <td>Closes 10 pm</td>\n",
              "      <td>https://find.shell.com/ke/fuel/KE_1037212-moi-...</td>\n",
              "      <td>2023-05-17 15:01:39</td>\n",
              "      <td>0722 651043</td>\n",
              "      <td>NaN</td>\n",
              "      <td>https://www.google.com/maps/place/South+Lake+N...</td>\n",
              "    </tr>\n",
              "    <tr>\n",
              "      <th>1</th>\n",
              "      <td>Petrol Stations Near Moi South Lake Rd</td>\n",
              "      <td>SOUTH LAKE SACCO PETROL STATION</td>\n",
              "      <td>3.0</td>\n",
              "      <td>2.0</td>\n",
              "      <td>NaN</td>\n",
              "      <td>Gas station</td>\n",
              "      <td>7CMJ+VMC</td>\n",
              "      <td>-0.715311</td>\n",
              "      <td>36.431650</td>\n",
              "      <td>NaN</td>\n",
              "      <td>NaN</td>\n",
              "      <td>NaN</td>\n",
              "      <td>2023-05-17 15:01:40</td>\n",
              "      <td>7CMJ+VMC</td>\n",
              "      <td>NaN</td>\n",
              "      <td>https://www.google.com/maps/place/SOUTH+LAKE+S...</td>\n",
              "    </tr>\n",
              "    <tr>\n",
              "      <th>2</th>\n",
              "      <td>Petrol Stations Near Moi South Lake Rd</td>\n",
              "      <td>TotalEnergies Moi Rd service station</td>\n",
              "      <td>4.0</td>\n",
              "      <td>232.0</td>\n",
              "      <td>NaN</td>\n",
              "      <td>Gas station</td>\n",
              "      <td>Moi Ave</td>\n",
              "      <td>-0.714012</td>\n",
              "      <td>36.430071</td>\n",
              "      <td>Open 24 hours</td>\n",
              "      <td>NaN</td>\n",
              "      <td>https://totalenergies.ke/</td>\n",
              "      <td>2023-05-17 15:01:41</td>\n",
              "      <td>0724 117267</td>\n",
              "      <td>NaN</td>\n",
              "      <td>https://www.google.com/maps/place/TotalEnergie...</td>\n",
              "    </tr>\n",
              "    <tr>\n",
              "      <th>3</th>\n",
              "      <td>Petrol Stations Near Moi South Lake Rd</td>\n",
              "      <td>TotalEnergies Gilgil service station</td>\n",
              "      <td>3.8</td>\n",
              "      <td>35.0</td>\n",
              "      <td>NaN</td>\n",
              "      <td>Gas station</td>\n",
              "      <td>Nakuru Nairobi Road</td>\n",
              "      <td>-0.714740</td>\n",
              "      <td>36.432321</td>\n",
              "      <td>Open 24 hours</td>\n",
              "      <td>NaN</td>\n",
              "      <td>https://totalenergies.ke/</td>\n",
              "      <td>2023-05-17 15:01:42</td>\n",
              "      <td>0723 860974</td>\n",
              "      <td>NaN</td>\n",
              "      <td>https://www.google.com/maps/place/TotalEnergie...</td>\n",
              "    </tr>\n",
              "    <tr>\n",
              "      <th>4</th>\n",
              "      <td>Petrol Stations Near Moi South Lake Rd</td>\n",
              "      <td>Ndabibi Shopping Centre</td>\n",
              "      <td>3.5</td>\n",
              "      <td>4.0</td>\n",
              "      <td>NaN</td>\n",
              "      <td>Gas station</td>\n",
              "      <td>Moi S Lake Rd</td>\n",
              "      <td>-0.820254</td>\n",
              "      <td>36.325501</td>\n",
              "      <td>Open</td>\n",
              "      <td>Closes 8 pm</td>\n",
              "      <td>NaN</td>\n",
              "      <td>2023-05-17 15:01:44</td>\n",
              "      <td>NaN</td>\n",
              "      <td>NaN</td>\n",
              "      <td>https://www.google.com/maps/place/Ndabibi+Shop...</td>\n",
              "    </tr>\n",
              "  </tbody>\n",
              "</table>\n",
              "</div>\n",
              "      <button class=\"colab-df-convert\" onclick=\"convertToInteractive('df-248344e9-1760-4903-8f9d-da8aca6db6cc')\"\n",
              "              title=\"Convert this dataframe to an interactive table.\"\n",
              "              style=\"display:none;\">\n",
              "        \n",
              "  <svg xmlns=\"http://www.w3.org/2000/svg\" height=\"24px\"viewBox=\"0 0 24 24\"\n",
              "       width=\"24px\">\n",
              "    <path d=\"M0 0h24v24H0V0z\" fill=\"none\"/>\n",
              "    <path d=\"M18.56 5.44l.94 2.06.94-2.06 2.06-.94-2.06-.94-.94-2.06-.94 2.06-2.06.94zm-11 1L8.5 8.5l.94-2.06 2.06-.94-2.06-.94L8.5 2.5l-.94 2.06-2.06.94zm10 10l.94 2.06.94-2.06 2.06-.94-2.06-.94-.94-2.06-.94 2.06-2.06.94z\"/><path d=\"M17.41 7.96l-1.37-1.37c-.4-.4-.92-.59-1.43-.59-.52 0-1.04.2-1.43.59L10.3 9.45l-7.72 7.72c-.78.78-.78 2.05 0 2.83L4 21.41c.39.39.9.59 1.41.59.51 0 1.02-.2 1.41-.59l7.78-7.78 2.81-2.81c.8-.78.8-2.07 0-2.86zM5.41 20L4 18.59l7.72-7.72 1.47 1.35L5.41 20z\"/>\n",
              "  </svg>\n",
              "      </button>\n",
              "      \n",
              "  <style>\n",
              "    .colab-df-container {\n",
              "      display:flex;\n",
              "      flex-wrap:wrap;\n",
              "      gap: 12px;\n",
              "    }\n",
              "\n",
              "    .colab-df-convert {\n",
              "      background-color: #E8F0FE;\n",
              "      border: none;\n",
              "      border-radius: 50%;\n",
              "      cursor: pointer;\n",
              "      display: none;\n",
              "      fill: #1967D2;\n",
              "      height: 32px;\n",
              "      padding: 0 0 0 0;\n",
              "      width: 32px;\n",
              "    }\n",
              "\n",
              "    .colab-df-convert:hover {\n",
              "      background-color: #E2EBFA;\n",
              "      box-shadow: 0px 1px 2px rgba(60, 64, 67, 0.3), 0px 1px 3px 1px rgba(60, 64, 67, 0.15);\n",
              "      fill: #174EA6;\n",
              "    }\n",
              "\n",
              "    [theme=dark] .colab-df-convert {\n",
              "      background-color: #3B4455;\n",
              "      fill: #D2E3FC;\n",
              "    }\n",
              "\n",
              "    [theme=dark] .colab-df-convert:hover {\n",
              "      background-color: #434B5C;\n",
              "      box-shadow: 0px 1px 3px 1px rgba(0, 0, 0, 0.15);\n",
              "      filter: drop-shadow(0px 1px 2px rgba(0, 0, 0, 0.3));\n",
              "      fill: #FFFFFF;\n",
              "    }\n",
              "  </style>\n",
              "\n",
              "      <script>\n",
              "        const buttonEl =\n",
              "          document.querySelector('#df-248344e9-1760-4903-8f9d-da8aca6db6cc button.colab-df-convert');\n",
              "        buttonEl.style.display =\n",
              "          google.colab.kernel.accessAllowed ? 'block' : 'none';\n",
              "\n",
              "        async function convertToInteractive(key) {\n",
              "          const element = document.querySelector('#df-248344e9-1760-4903-8f9d-da8aca6db6cc');\n",
              "          const dataTable =\n",
              "            await google.colab.kernel.invokeFunction('convertToInteractive',\n",
              "                                                     [key], {});\n",
              "          if (!dataTable) return;\n",
              "\n",
              "          const docLinkHtml = 'Like what you see? Visit the ' +\n",
              "            '<a target=\"_blank\" href=https://colab.research.google.com/notebooks/data_table.ipynb>data table notebook</a>'\n",
              "            + ' to learn more about interactive tables.';\n",
              "          element.innerHTML = '';\n",
              "          dataTable['output_type'] = 'display_data';\n",
              "          await google.colab.output.renderOutput(dataTable, element);\n",
              "          const docLink = document.createElement('div');\n",
              "          docLink.innerHTML = docLinkHtml;\n",
              "          element.appendChild(docLink);\n",
              "        }\n",
              "      </script>\n",
              "    </div>\n",
              "  </div>\n",
              "  "
            ]
          },
          "metadata": {},
          "execution_count": 15
        }
      ]
    },
    {
      "cell_type": "markdown",
      "source": [
        "## List comprehension to make a list of lists"
      ],
      "metadata": {
        "id": "adtz60Zbs2Wb"
      }
    },
    {
      "cell_type": "code",
      "source": [
        "heat_data = [[row['Latitude'], row['Longitude']] for index, row in df.iterrows()]"
      ],
      "metadata": {
        "id": "kskLOAves0PB"
      },
      "execution_count": 16,
      "outputs": []
    },
    {
      "cell_type": "markdown",
      "source": [
        "## Create a Map instance"
      ],
      "metadata": {
        "id": "7J2wS-AZtXuF"
      }
    },
    {
      "cell_type": "code",
      "source": [
        "m = folium.Map(location=[-0.7203, 36.4313], zoom_start=11)  # Coordinates for Naivasha"
      ],
      "metadata": {
        "id": "73OGKT0Atbby"
      },
      "execution_count": 17,
      "outputs": []
    },
    {
      "cell_type": "markdown",
      "source": [
        "##Add HeatMap to the map"
      ],
      "metadata": {
        "id": "kvmBsuZpuQGY"
      }
    },
    {
      "cell_type": "code",
      "source": [
        "HeatMap(heat_data).add_to(m)"
      ],
      "metadata": {
        "colab": {
          "base_uri": "https://localhost:8080/"
        },
        "id": "yApPGB-uuQsH",
        "outputId": "eaf00194-46bf-4a68-f656-a41f9af123f6"
      },
      "execution_count": 19,
      "outputs": [
        {
          "output_type": "execute_result",
          "data": {
            "text/plain": [
              "<folium.plugins.heat_map.HeatMap at 0x7fd5fb0aad70>"
            ]
          },
          "metadata": {},
          "execution_count": 19
        }
      ]
    },
    {
      "cell_type": "markdown",
      "source": [
        "## Show the map"
      ],
      "metadata": {
        "id": "XJPej6i7t2Xw"
      }
    },
    {
      "cell_type": "code",
      "source": [
        "m"
      ],
      "metadata": {
        "colab": {
          "base_uri": "https://localhost:8080/",
          "height": 702
        },
        "id": "iLIhzDlVt4PA",
        "outputId": "121806c8-a6a9-4eb5-e19d-73a42f6f28ac"
      },
      "execution_count": 20,
      "outputs": [
        {
          "output_type": "execute_result",
          "data": {
            "text/plain": [
              "<folium.folium.Map at 0x7fd5fbf07490>"
            ],
            "text/html": [
              "<div style=\"width:100%;\"><div style=\"position:relative;width:100%;height:0;padding-bottom:60%;\"><span style=\"color:#565656\">Make this Notebook Trusted to load map: File -> Trust Notebook</span><iframe srcdoc=\"&lt;!DOCTYPE html&gt;\n",
              "&lt;html&gt;\n",
              "&lt;head&gt;\n",
              "    \n",
              "    &lt;meta http-equiv=&quot;content-type&quot; content=&quot;text/html; charset=UTF-8&quot; /&gt;\n",
              "    \n",
              "        &lt;script&gt;\n",
              "            L_NO_TOUCH = false;\n",
              "            L_DISABLE_3D = false;\n",
              "        &lt;/script&gt;\n",
              "    \n",
              "    &lt;style&gt;html, body {width: 100%;height: 100%;margin: 0;padding: 0;}&lt;/style&gt;\n",
              "    &lt;style&gt;#map {position:absolute;top:0;bottom:0;right:0;left:0;}&lt;/style&gt;\n",
              "    &lt;script src=&quot;https://cdn.jsdelivr.net/npm/leaflet@1.9.3/dist/leaflet.js&quot;&gt;&lt;/script&gt;\n",
              "    &lt;script src=&quot;https://code.jquery.com/jquery-1.12.4.min.js&quot;&gt;&lt;/script&gt;\n",
              "    &lt;script src=&quot;https://cdn.jsdelivr.net/npm/bootstrap@5.2.2/dist/js/bootstrap.bundle.min.js&quot;&gt;&lt;/script&gt;\n",
              "    &lt;script src=&quot;https://cdnjs.cloudflare.com/ajax/libs/Leaflet.awesome-markers/2.0.2/leaflet.awesome-markers.js&quot;&gt;&lt;/script&gt;\n",
              "    &lt;link rel=&quot;stylesheet&quot; href=&quot;https://cdn.jsdelivr.net/npm/leaflet@1.9.3/dist/leaflet.css&quot;/&gt;\n",
              "    &lt;link rel=&quot;stylesheet&quot; href=&quot;https://cdn.jsdelivr.net/npm/bootstrap@5.2.2/dist/css/bootstrap.min.css&quot;/&gt;\n",
              "    &lt;link rel=&quot;stylesheet&quot; href=&quot;https://netdna.bootstrapcdn.com/bootstrap/3.0.0/css/bootstrap.min.css&quot;/&gt;\n",
              "    &lt;link rel=&quot;stylesheet&quot; href=&quot;https://cdn.jsdelivr.net/npm/@fortawesome/fontawesome-free@6.2.0/css/all.min.css&quot;/&gt;\n",
              "    &lt;link rel=&quot;stylesheet&quot; href=&quot;https://cdnjs.cloudflare.com/ajax/libs/Leaflet.awesome-markers/2.0.2/leaflet.awesome-markers.css&quot;/&gt;\n",
              "    &lt;link rel=&quot;stylesheet&quot; href=&quot;https://cdn.jsdelivr.net/gh/python-visualization/folium/folium/templates/leaflet.awesome.rotate.min.css&quot;/&gt;\n",
              "    \n",
              "            &lt;meta name=&quot;viewport&quot; content=&quot;width=device-width,\n",
              "                initial-scale=1.0, maximum-scale=1.0, user-scalable=no&quot; /&gt;\n",
              "            &lt;style&gt;\n",
              "                #map_875fe839a3ac7b1a6db3e8f1af845c8f {\n",
              "                    position: relative;\n",
              "                    width: 100.0%;\n",
              "                    height: 100.0%;\n",
              "                    left: 0.0%;\n",
              "                    top: 0.0%;\n",
              "                }\n",
              "                .leaflet-container { font-size: 1rem; }\n",
              "            &lt;/style&gt;\n",
              "        \n",
              "    &lt;script src=&quot;https://cdn.jsdelivr.net/gh/python-visualization/folium@main/folium/templates/leaflet_heat.min.js&quot;&gt;&lt;/script&gt;\n",
              "&lt;/head&gt;\n",
              "&lt;body&gt;\n",
              "    \n",
              "    \n",
              "            &lt;div class=&quot;folium-map&quot; id=&quot;map_875fe839a3ac7b1a6db3e8f1af845c8f&quot; &gt;&lt;/div&gt;\n",
              "        \n",
              "&lt;/body&gt;\n",
              "&lt;script&gt;\n",
              "    \n",
              "    \n",
              "            var map_875fe839a3ac7b1a6db3e8f1af845c8f = L.map(\n",
              "                &quot;map_875fe839a3ac7b1a6db3e8f1af845c8f&quot;,\n",
              "                {\n",
              "                    center: [-0.7203, 36.4313],\n",
              "                    crs: L.CRS.EPSG3857,\n",
              "                    zoom: 11,\n",
              "                    zoomControl: true,\n",
              "                    preferCanvas: false,\n",
              "                }\n",
              "            );\n",
              "\n",
              "            \n",
              "\n",
              "        \n",
              "    \n",
              "            var tile_layer_cec2534df5c452ee2d6f81b6c2bf6a14 = L.tileLayer(\n",
              "                &quot;https://{s}.tile.openstreetmap.org/{z}/{x}/{y}.png&quot;,\n",
              "                {&quot;attribution&quot;: &quot;Data by \\u0026copy; \\u003ca target=\\&quot;_blank\\&quot; href=\\&quot;http://openstreetmap.org\\&quot;\\u003eOpenStreetMap\\u003c/a\\u003e, under \\u003ca target=\\&quot;_blank\\&quot; href=\\&quot;http://www.openstreetmap.org/copyright\\&quot;\\u003eODbL\\u003c/a\\u003e.&quot;, &quot;detectRetina&quot;: false, &quot;maxNativeZoom&quot;: 18, &quot;maxZoom&quot;: 18, &quot;minZoom&quot;: 0, &quot;noWrap&quot;: false, &quot;opacity&quot;: 1, &quot;subdomains&quot;: &quot;abc&quot;, &quot;tms&quot;: false}\n",
              "            ).addTo(map_875fe839a3ac7b1a6db3e8f1af845c8f);\n",
              "        \n",
              "    \n",
              "            var heat_map_b1a1b3bbd8d9e8410fede42efa866d63 = L.heatLayer(\n",
              "                [[-0.7795392, 36.4269885], [-0.7153108, 36.4316504], [-0.7140124, 36.430071], [-0.71474, 36.432321], [-0.8202537, 36.3255008], [-0.7186376, 36.4328928], [-0.7182433, 36.4362592], [-0.7162896, 36.4365396], [-0.7772883, 36.4366083], [-0.719944, 36.433493], [-0.712099, 36.429223], [-0.7171778, 36.4310251], [-0.7211522, 36.4407797], [-0.6976574, 36.427362], [-0.7391712, 36.4583495], [-0.7377011, 36.4574339], [-0.7307785, 36.4695088], [-0.7693838, 36.4976188]],\n",
              "                {&quot;blur&quot;: 15, &quot;maxZoom&quot;: 18, &quot;minOpacity&quot;: 0.5, &quot;radius&quot;: 25}\n",
              "            ).addTo(map_875fe839a3ac7b1a6db3e8f1af845c8f);\n",
              "        \n",
              "&lt;/script&gt;\n",
              "&lt;/html&gt;\" style=\"position:absolute;width:100%;height:100%;left:0;top:0;border:none !important;\" allowfullscreen webkitallowfullscreen mozallowfullscreen></iframe></div></div>"
            ]
          },
          "metadata": {},
          "execution_count": 20
        }
      ]
    }
  ]
}